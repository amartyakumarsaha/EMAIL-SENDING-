{
 "cells": [
  {
   "cell_type": "code",
   "execution_count": 1,
   "metadata": {},
   "outputs": [],
   "source": [
    "import emails"
   ]
  },
  {
   "cell_type": "code",
   "execution_count": 2,
   "metadata": {},
   "outputs": [],
   "source": [
    "email_text='''<p><strong><span style=\"color: rgb(61, 142, 185);\">Hi , Jack .</span></strong></p>\n",
    "              <p>Congratulations, for completing the previous project . You will get feedback of your project via email.</p>\n",
    "              <p>Start your &nbsp;new project &apos;EMAIL SENDING &apos; using python .</p>\n",
    "              <p><br></p>\n",
    "              <p><strong>Thank you .</strong></p>'''\n",
    "\n",
    "message = emails.html(html=email_text,\n",
    "                          subject=\"Congratulations\",\n",
    "                          mail_from=('Admin', 'store@somestore.com'))"
   ]
  },
  {
   "cell_type": "code",
   "execution_count": 3,
   "metadata": {},
   "outputs": [],
   "source": [
    "def sendEmail(email):\n",
    "    mail_via_python= message.send(to=email, smtp={'host': 'smtp.gmail.com', 'timeout': 5 ,'port' : 587 ,\n",
    "                                                    'user' : 'senderemail@gmail.com' ,'password' : 'senderpassword','tls':True})\n",
    "    return mail_via_python.status_code"
   ]
  },
  {
   "cell_type": "code",
   "execution_count": 4,
   "metadata": {},
   "outputs": [
    {
     "data": {
      "text/plain": [
       "250"
      ]
     },
     "execution_count": 4,
     "metadata": {},
     "output_type": "execute_result"
    }
   ],
   "source": [
    "sendEmail('reciversemail@gmail.com')"
   ]
  },
  {
   "cell_type": "code",
   "execution_count": null,
   "metadata": {},
   "outputs": [],
   "source": []
  }
 ],
 "metadata": {
  "kernelspec": {
   "display_name": "Python 3",
   "language": "python",
   "name": "python3"
  },
  "language_info": {
   "codemirror_mode": {
    "name": "ipython",
    "version": 3
   },
   "file_extension": ".py",
   "mimetype": "text/x-python",
   "name": "python",
   "nbconvert_exporter": "python",
   "pygments_lexer": "ipython3",
   "version": "3.8.5"
  }
 },
 "nbformat": 4,
 "nbformat_minor": 4
}
